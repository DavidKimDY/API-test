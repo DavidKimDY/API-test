{
 "cells": [
  {
   "cell_type": "code",
   "execution_count": 200,
   "metadata": {},
   "outputs": [],
   "source": [
    "import os\n",
    "import datetime\n",
    "from time import sleep\n",
    "\n",
    "if not os.path.isdir('test'):\n",
    "    os.mkdir('test')\n",
    "    \n",
    "current_path = os.getcwd()\n",
    "save_path = os.path.join(current_path, 'test')\n",
    "\n",
    "time = datetime.datetime.now()\n",
    "end = time + datetime.timedelta(days=1)\n",
    "pre_minute = time.minute\n",
    "\n",
    "while time < end:\n",
    "    minute = time.minute\n",
    "    if pre_minute - minute != 0:\n",
    "        mkdir_path = os.path.join(save_path, time.strftime('%H_%M'))\n",
    "        os.mkdir(mkdir_path)\n",
    "        pre_minute = minute\n",
    "    sleep(10)\n",
    "    time = datetime.datetime.now()"
   ]
  },
  {
   "cell_type": "code",
   "execution_count": 204,
   "metadata": {},
   "outputs": [
    {
     "name": "stdout",
     "output_type": "stream",
     "text": [
      "target_amount : 1440\n",
      "folder_amount : 1440\n",
      "Success\n"
     ]
    }
   ],
   "source": [
    "target_amount = 24 * 60\n",
    "folder_amount = len(os.listdir('test'))\n",
    "\n",
    "if target_amount == folder_amount:\n",
    "    print('target_amount : {}\\nfolder_amount : {}'.format(target_amount, folder_amount))\n",
    "    print('Success')\n",
    "else:\n",
    "    print('target_amount : {}\\nfolder_amount : {}'.format(target_amount, folder_amount))\n",
    "    print('Wrong')"
   ]
  },
  {
   "cell_type": "code",
   "execution_count": 207,
   "metadata": {},
   "outputs": [
    {
     "data": {
      "text/plain": [
       "['test3.ipynb',\n",
       " '.ipynb_checkpoints',\n",
       " 'Untitled Folder',\n",
       " 'test',\n",
       " 'base',\n",
       " 'Untitled.ipynb']"
      ]
     },
     "execution_count": 207,
     "metadata": {},
     "output_type": "execute_result"
    }
   ],
   "source": [
    "os.listdir()"
   ]
  },
  {
   "cell_type": "code",
   "execution_count": null,
   "metadata": {},
   "outputs": [],
   "source": []
  }
 ],
 "metadata": {
  "kernelspec": {
   "display_name": "Python 3",
   "language": "python",
   "name": "python3"
  },
  "language_info": {
   "codemirror_mode": {
    "name": "ipython",
    "version": 3
   },
   "file_extension": ".py",
   "mimetype": "text/x-python",
   "name": "python",
   "nbconvert_exporter": "python",
   "pygments_lexer": "ipython3",
   "version": "3.6.6"
  }
 },
 "nbformat": 4,
 "nbformat_minor": 4
}
