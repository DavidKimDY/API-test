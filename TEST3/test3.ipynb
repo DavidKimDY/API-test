{
 "cells": [
  {
   "cell_type": "code",
   "execution_count": 200,
   "metadata": {},
   "outputs": [],
   "source": [
    "import os\n",
    "import datetime\n",
    "from time import sleep\n",
    "\n",
    "# make a directory to store timestamped-fordel\n",
    "if not os.path.isdir('test'):\n",
    "    os.mkdir('test')\n",
    "\n",
    "# get current path of this notebook, '/home/ubuntu/work'\n",
    "current_path = os.getcwd()\n",
    "# set save path. It will be saved in, '/home/ubuntu/work/test'\n",
    "save_path = os.path.join(current_path, 'test')\n",
    "\n",
    "# test will be going for 1 day.\n",
    "time = datetime.datetime.now()\n",
    "end = time + datetime.timedelta(days=1)\n",
    "pre_minute = time.minute\n",
    "\n",
    "while time < end:\n",
    "    minute = time.minute\n",
    "    if pre_minute - minute != 0:\n",
    "        mkdir_path = os.path.join(save_path, time.strftime('%H_%M'))\n",
    "        os.mkdir(mkdir_path)\n",
    "        pre_minute = minute\n",
    "    sleep(10)\n",
    "    time = datetime.datetime.now()"
   ]
  },
  {
   "cell_type": "code",
   "execution_count": 209,
   "metadata": {},
   "outputs": [
    {
     "name": "stdout",
     "output_type": "stream",
     "text": [
      "target_amount : 1440 (24h * 60m)\n",
      "folder_amount : 1440\n",
      "Success!\n"
     ]
    }
   ],
   "source": [
    "target_amount = 24 * 60\n",
    "folder_amount = len(os.listdir('test'))\n",
    "\n",
    "if target_amount == folder_amount:\n",
    "    print('target_amount : {} (24h * 60m)\\nfolder_amount : {}'.format(target_amount, folder_amount))\n",
    "    print('Success!')\n",
    "else:\n",
    "    print('target_amount : {}\\nfolder_amount : {}'.format(target_amount, folder_amount))\n",
    "    print('Wrong')"
   ]
  },
  {
   "cell_type": "code",
   "execution_count": 211,
   "metadata": {},
   "outputs": [
    {
     "name": "stdout",
     "output_type": "stream",
     "text": [
      "current_path :  /home/ubuntu/work \n",
      "save_path :  /home/ubuntu/work/test\n"
     ]
    }
   ],
   "source": [
    "print('current_path : ',current_path,'\\nsave_path : ',save_path)"
   ]
  }
 ],
 "metadata": {
  "kernelspec": {
   "display_name": "Python 3",
   "language": "python",
   "name": "python3"
  },
  "language_info": {
   "codemirror_mode": {
    "name": "ipython",
    "version": 3
   },
   "file_extension": ".py",
   "mimetype": "text/x-python",
   "name": "python",
   "nbconvert_exporter": "python",
   "pygments_lexer": "ipython3",
   "version": "3.6.6"
  }
 },
 "nbformat": 4,
 "nbformat_minor": 4
}
